{
  "cells": [
    {
      "metadata": {
        "collapsed": true,
        "trusted": false
      },
      "cell_type": "markdown",
      "source": "# Factor Portfolio Modelling - Menthodology"
    },
    {
      "metadata": {},
      "cell_type": "markdown",
      "source": "# Factor Portfolio Modelling - Implementation"
    },
    {
      "metadata": {
        "trusted": true
      },
      "cell_type": "code",
      "source": "import numpy as np\nimport pandas as pd",
      "execution_count": 1,
      "outputs": []
    },
    {
      "metadata": {},
      "cell_type": "markdown",
      "source": "## Load"
    },
    {
      "metadata": {
        "trusted": true
      },
      "cell_type": "code",
      "source": "%%time\n\nfile='data_Factor.csv'\n\ndata =pd.read_csv(file)",
      "execution_count": 2,
      "outputs": [
        {
          "output_type": "stream",
          "text": "CPU times: user 11.6 ms, sys: 289 µs, total: 11.9 ms\nWall time: 531 ms\n",
          "name": "stdout"
        }
      ]
    },
    {
      "metadata": {
        "trusted": true
      },
      "cell_type": "code",
      "source": "data = data.dropna()\ndata",
      "execution_count": 3,
      "outputs": [
        {
          "output_type": "execute_result",
          "execution_count": 3,
          "data": {
            "text/html": "<div>\n<style scoped>\n    .dataframe tbody tr th:only-of-type {\n        vertical-align: middle;\n    }\n\n    .dataframe tbody tr th {\n        vertical-align: top;\n    }\n\n    .dataframe thead th {\n        text-align: right;\n    }\n</style>\n<table border=\"1\" class=\"dataframe\">\n  <thead>\n    <tr style=\"text-align: right;\">\n      <th></th>\n      <th>Unnamed: 0</th>\n      <th>InstrumentTicker</th>\n      <th>InstrumentLongName</th>\n      <th>bicsSector</th>\n      <th>bicsIndustry</th>\n      <th>bicsSubIndustry</th>\n      <th>Momentum</th>\n      <th>Size</th>\n      <th>Quality</th>\n      <th>Value</th>\n      <th>Volatility</th>\n    </tr>\n  </thead>\n  <tbody>\n    <tr>\n      <th>0</th>\n      <td>3</td>\n      <td>ACN</td>\n      <td>ACCENTURE PLC IRELAN SHS CLASS A</td>\n      <td>Technology</td>\n      <td>Technology Services</td>\n      <td>IT Services</td>\n      <td>0.124758</td>\n      <td>1.374397</td>\n      <td>0.466725</td>\n      <td>0.613565</td>\n      <td>-0.939051</td>\n    </tr>\n    <tr>\n      <th>1</th>\n      <td>5</td>\n      <td>ADI</td>\n      <td>ANALOG DEVICES INC COM</td>\n      <td>Technology</td>\n      <td>Semiconductors</td>\n      <td>Semiconductor Devices</td>\n      <td>-1.124103</td>\n      <td>-0.910101</td>\n      <td>-0.925225</td>\n      <td>-1.159149</td>\n      <td>-1.024251</td>\n    </tr>\n    <tr>\n      <th>2</th>\n      <td>6</td>\n      <td>ADP</td>\n      <td>AUTOMATIC DATA PROCE COM</td>\n      <td>Technology</td>\n      <td>Technology Services</td>\n      <td>Payment &amp; Data Processors</td>\n      <td>-0.181322</td>\n      <td>0.721957</td>\n      <td>-0.565603</td>\n      <td>-0.121086</td>\n      <td>0.141155</td>\n    </tr>\n    <tr>\n      <th>3</th>\n      <td>8</td>\n      <td>AJG</td>\n      <td>GALLAGHER ARTHUR J &amp; COM</td>\n      <td>Financials</td>\n      <td>Insurance</td>\n      <td>Insurance Brokers</td>\n      <td>0.204956</td>\n      <td>-0.549921</td>\n      <td>-0.672929</td>\n      <td>-0.288352</td>\n      <td>0.100299</td>\n    </tr>\n    <tr>\n      <th>4</th>\n      <td>10</td>\n      <td>ALB</td>\n      <td>ALBEMARLE CORP COM</td>\n      <td>Materials</td>\n      <td>Chemicals</td>\n      <td>Specialty Chemicals</td>\n      <td>0.607540</td>\n      <td>-0.831808</td>\n      <td>-0.488994</td>\n      <td>-0.963566</td>\n      <td>2.590053</td>\n    </tr>\n    <tr>\n      <th>...</th>\n      <td>...</td>\n      <td>...</td>\n      <td>...</td>\n      <td>...</td>\n      <td>...</td>\n      <td>...</td>\n      <td>...</td>\n      <td>...</td>\n      <td>...</td>\n      <td>...</td>\n      <td>...</td>\n    </tr>\n    <tr>\n      <th>129</th>\n      <td>267</td>\n      <td>WCN</td>\n      <td>WASTE CONNECTIONS INC</td>\n      <td>Industrials</td>\n      <td>Waste &amp; Environ Svcs &amp; Equip</td>\n      <td>Waste Management</td>\n      <td>0.009033</td>\n      <td>0.014483</td>\n      <td>0.005555</td>\n      <td>0.017747</td>\n      <td>-0.042201</td>\n    </tr>\n    <tr>\n      <th>130</th>\n      <td>271</td>\n      <td>XEC</td>\n      <td>CIMAREX ENERGY CO COM</td>\n      <td>Energy</td>\n      <td>Oil, Gas &amp; Coal</td>\n      <td>Exploration &amp; Production</td>\n      <td>-0.274505</td>\n      <td>-0.229596</td>\n      <td>-3.277848</td>\n      <td>-0.129934</td>\n      <td>1.699652</td>\n    </tr>\n    <tr>\n      <th>131</th>\n      <td>272</td>\n      <td>XLNX</td>\n      <td>XILINX INC COM</td>\n      <td>Technology</td>\n      <td>Semiconductors</td>\n      <td>Semiconductor Devices</td>\n      <td>-0.696598</td>\n      <td>-1.325184</td>\n      <td>0.590513</td>\n      <td>-0.569226</td>\n      <td>-0.519026</td>\n    </tr>\n    <tr>\n      <th>132</th>\n      <td>274</td>\n      <td>XYL</td>\n      <td>XYLEM INC</td>\n      <td>Industrials</td>\n      <td>Machinery</td>\n      <td>Flow Control Equipment</td>\n      <td>0.009033</td>\n      <td>0.014483</td>\n      <td>0.005555</td>\n      <td>0.017747</td>\n      <td>-0.042201</td>\n    </tr>\n    <tr>\n      <th>133</th>\n      <td>277</td>\n      <td>ZTS</td>\n      <td>ZOETIS INC</td>\n      <td>Health Care</td>\n      <td>Biotech &amp; Pharma</td>\n      <td>Specialty Pharma</td>\n      <td>0.009033</td>\n      <td>0.014483</td>\n      <td>0.005555</td>\n      <td>0.017747</td>\n      <td>-0.042201</td>\n    </tr>\n  </tbody>\n</table>\n<p>134 rows × 11 columns</p>\n</div>",
            "text/plain": "     Unnamed: 0 InstrumentTicker                InstrumentLongName  \\\n0             3              ACN  ACCENTURE PLC IRELAN SHS CLASS A   \n1             5              ADI            ANALOG DEVICES INC COM   \n2             6              ADP          AUTOMATIC DATA PROCE COM   \n3             8              AJG          GALLAGHER ARTHUR J & COM   \n4            10              ALB                ALBEMARLE CORP COM   \n..          ...              ...                               ...   \n129         267              WCN             WASTE CONNECTIONS INC   \n130         271              XEC             CIMAREX ENERGY CO COM   \n131         272             XLNX                    XILINX INC COM   \n132         274              XYL                         XYLEM INC   \n133         277              ZTS                        ZOETIS INC   \n\n      bicsSector                  bicsIndustry            bicsSubIndustry  \\\n0     Technology           Technology Services                IT Services   \n1     Technology                Semiconductors      Semiconductor Devices   \n2     Technology           Technology Services  Payment & Data Processors   \n3     Financials                     Insurance          Insurance Brokers   \n4      Materials                     Chemicals        Specialty Chemicals   \n..           ...                           ...                        ...   \n129  Industrials  Waste & Environ Svcs & Equip           Waste Management   \n130       Energy               Oil, Gas & Coal   Exploration & Production   \n131   Technology                Semiconductors      Semiconductor Devices   \n132  Industrials                     Machinery     Flow Control Equipment   \n133  Health Care              Biotech & Pharma           Specialty Pharma   \n\n     Momentum      Size   Quality     Value  Volatility  \n0    0.124758  1.374397  0.466725  0.613565   -0.939051  \n1   -1.124103 -0.910101 -0.925225 -1.159149   -1.024251  \n2   -0.181322  0.721957 -0.565603 -0.121086    0.141155  \n3    0.204956 -0.549921 -0.672929 -0.288352    0.100299  \n4    0.607540 -0.831808 -0.488994 -0.963566    2.590053  \n..        ...       ...       ...       ...         ...  \n129  0.009033  0.014483  0.005555  0.017747   -0.042201  \n130 -0.274505 -0.229596 -3.277848 -0.129934    1.699652  \n131 -0.696598 -1.325184  0.590513 -0.569226   -0.519026  \n132  0.009033  0.014483  0.005555  0.017747   -0.042201  \n133  0.009033  0.014483  0.005555  0.017747   -0.042201  \n\n[134 rows x 11 columns]"
          },
          "metadata": {}
        }
      ]
    },
    {
      "metadata": {},
      "cell_type": "markdown",
      "source": "## Transform"
    },
    {
      "metadata": {
        "trusted": true
      },
      "cell_type": "code",
      "source": "",
      "execution_count": null,
      "outputs": []
    }
  ],
  "metadata": {
    "kernelspec": {
      "name": "python36",
      "display_name": "Python 3.6",
      "language": "python"
    },
    "language_info": {
      "mimetype": "text/x-python",
      "nbconvert_exporter": "python",
      "name": "python",
      "pygments_lexer": "ipython3",
      "version": "3.6.6",
      "file_extension": ".py",
      "codemirror_mode": {
        "version": 3,
        "name": "ipython"
      }
    }
  },
  "nbformat": 4,
  "nbformat_minor": 2
}